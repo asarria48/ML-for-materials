{
  "cells": [
    {
      "cell_type": "markdown",
      "metadata": {
        "id": "view-in-github",
        "colab_type": "text"
      },
      "source": [
        "<a href=\"https://colab.research.google.com/github/asarria48/ML-for-materials/blob/main/Advanced_BO_features.ipynb\" target=\"_parent\"><img src=\"https://colab.research.google.com/assets/colab-badge.svg\" alt=\"Open In Colab\"/></a>"
      ]
    },
    {
      "cell_type": "markdown",
      "metadata": {
        "id": "1hb7KLivsgtR"
      },
      "source": [
        "# Periodicity and symmetries in Bayesian optimization (Advanced content)\n",
        "\n",
        "In this tutorial we will study how periodicity and symmetries in the objective function can be leveraged to reduce the number of iterations required to find a global optimum.\n",
        "\n",
        "We will use a simple example from atomic materials simulations where the goal is to find the\n",
        "optimal (lowest energy) position of a Pd atom on an Au surface. In this context Pd is referred\n",
        "to as an adatom. More precisely, we will place a Pd atom on a 2x2 Au(100) slab, resulting in a\n",
        "1/4 ML coverage. To keep the simulation time short we will use a simple method (Embedded Medium Theory, EMT)\n",
        "to calculate the energy as a function of the position of the adatom.\n",
        "\n",
        "\n",
        "---\n",
        "\n",
        "\n",
        "**NOTE**: If you are not familiar with surface science, you can think of this as a purely mathematical problem where we want  to minimize a function (the energy) of three variables (the x, y, z coordinates of the adatom). This objective function is periodic, and has mirror symmetries, for two variables $(x, y)$.\n"
      ]
    },
    {
      "cell_type": "code",
      "source": [
        "!pip3 install ase aalto-boss\n",
        "import numpy as np\n",
        "\n",
        "from boss.bo.bo_main import BOMain\n",
        "from boss.pp.pp_main import PPMain\n",
        "\n",
        "from ase.build import fcc100\n",
        "from ase import Atoms\n",
        "from ase.calculators.emt import EMT\n",
        "from ase.visualize import view"
      ],
      "metadata": {
        "id": "W9Wswoc9VnPy"
      },
      "execution_count": null,
      "outputs": []
    },
    {
      "cell_type": "markdown",
      "source": [
        "Below we define a helper class that assembles the adatom system given a desired location for the adatom and\n",
        "uses the EMT method to calculate the energy. The method for calculating the energy `Adatom.calc_energy` takes a\n",
        "single array $x$ as argument and places the adatom at position $x_1\\mathbf{a}_1 + x_2\\mathbf{a}_2 + x_3\\mathbf{z}$,\n",
        "where $(\\mathbf{a}_1, \\mathbf{a}_2)$ are the lattice vectors of the primitive surface cell."
      ],
      "metadata": {
        "id": "XqfWUSxmVtiB"
      }
    },
    {
      "cell_type": "code",
      "source": [
        "class Adatom:\n",
        "    def __init__(self, z_fix=None):\n",
        "        \"\"\"Models a Pd adatom layer on an Au surface.\n",
        "\n",
        "        Parameters\n",
        "        ----------\n",
        "        z_fix: Optional[float]\n",
        "            A fixed cartesian z-coordinate for the adatom, measured\n",
        "            with respect to surface's uppermost atomic layer.\n",
        "        \"\"\"\n",
        "        self.a0 = 4.056  # EMT lattice const. for Au\n",
        "        self.slab = fcc100('Au', size=(2, 2, 5), a=self.a0, vacuum=7.5)\n",
        "        self.adatom = Atoms('Pd')\n",
        "        self.adatom.cell = self.slab.cell\n",
        "        self.z_top = max(at.z for at in self.slab)\n",
        "        self.calc = EMT()\n",
        "        self.atoms = None\n",
        "        self.z_fix = z_fix\n",
        "\n",
        "    def place(self, x):\n",
        "        \"\"\"Places the adatom at the given coordinates.\n",
        "        \"\"\"\n",
        "        x = np.squeeze(x)\n",
        "        if self.z_fix is not None and len(x) == 2:\n",
        "            x = np.append(x, self.z_fix)\n",
        "        self.adatom[0].z = self.z_top + x[2]\n",
        "        pos_scaled = self.adatom.get_scaled_positions()[0]\n",
        "        self.adatom.set_scaled_positions([0.5*x[0], 0.5*x[1], pos_scaled[2]])\n",
        "        self.atoms = self.slab + self.adatom\n",
        "\n",
        "    def calc_energy(self, x):\n",
        "        \"\"\"Calculates the energy of the combined slab + adatom using the EMT calculator.\"\"\"\n",
        "        self.place(x)\n",
        "        energy = self.calc.get_potential_energy(self.atoms)\n",
        "        return energy"
      ],
      "metadata": {
        "id": "-R9bjerMVyCI"
      },
      "execution_count": null,
      "outputs": []
    },
    {
      "cell_type": "markdown",
      "source": [
        "Let's start by investigating the problem in 2D by initializing the `Adatom` class with the `z_fix` argument\n",
        "which fixes the adatom's z-coordinate so we only need to care about the (x, y) coordinates. We can then run\n",
        "BO with BOSS as usual by passing the `Adatom.calc_energy` method as the objective function"
      ],
      "metadata": {
        "id": "cw9Whtj5V9Ry"
      }
    },
    {
      "cell_type": "code",
      "source": [
        "adatom = Adatom(z_fix=2.5)\n",
        "\n",
        "bo = BOMain(\n",
        "    adatom.calc_energy,\n",
        "    bounds=[[0., 1.], [0., 1.]],\n",
        "    kernel=['rbf', 'rbf'],\n",
        "    initpts=4,\n",
        "    iterpts=20,\n",
        "    acqfn_name='lcb',\n",
        ")\n",
        "res = bo.run()\n",
        "\n",
        "pp = PPMain(res, pp_models=True, pp_acq_funcs=True)\n",
        "pp.run()\n",
        "\n",
        "# We can also visualize the minimum energy configuration\n",
        "x_glmin = res.select(\"x_glmin\", -1)\n",
        "y_glmin = res.select(\"mu_glmin\", -1)\n",
        "print(\"Best adsorption energy found: %0.3f eV\" %y_glmin)\n",
        "adatom.place(x_glmin)\n",
        "view(adatom.atoms, viewer='x3d')"
      ],
      "metadata": {
        "id": "0tPQfWzAWCK1"
      },
      "execution_count": null,
      "outputs": []
    },
    {
      "cell_type": "markdown",
      "source": [
        "Here, we have used the RBF kernel, which assumes that the objective is smooth but doesn't otherwise constrain the objective.\n",
        "We know, however (due to the structure of the gold surface), that the the objective is periodic in $(x, y)$ with period 1, coinciding\n",
        "with the bounds. This knowledge can be encoded by into the GP by using the so-called standard periodic kernel\n",
        "$$ k_{\\mathrm{per}}(\\mathbf{x}, \\mathbf{x}') = \\sigma^2 \\exp\\left(\\frac{2\\sin^2\\left(\\left(\\pi\\left\\|\\mathbf{x} - \\mathbf{x}'\\right\\|/p\\right)\\right)}{l^2}\\right).$$\n",
        "Here, $\\sigma^2, l$ are the variance and lengthscale hyperparameters and $p$ is a (typically fixed) period.\n",
        "To use the standard periodic kernel with BOSS, we simply interchange the `rbf` keyword for `stdp`. Repeat the previous BO run with periodic kernels and compare\n",
        "the model plots generated by the post-processing tool, can you notice any differences? Before running the new optimization you might want to rename the post-processing\n",
        "folder from the previous run so it doesn't get overwritten.\n",
        "\n",
        "Let us also allow z variable to change, 1-2.5 angstrom would be a reasonable range. Note, that the z variable is not periodic, so we must use an RBF kernel here."
      ],
      "metadata": {
        "id": "TddRdgTaWOrE"
      }
    },
    {
      "cell_type": "code",
      "source": [
        "# Switching on periodic boundary conditions & adding Z variation.\n",
        "# 1-2.5 angstrom above the surface is a good height\n",
        "adatom = Adatom()\n",
        "\n",
        "bo = BOMain(\n",
        "    adatom.calc_energy,\n",
        "    bounds=[[0., 1.], [0., 1.], [1, 2.5]],\n",
        "    kernel=['stdp', 'stdp', 'rbf'],\n",
        "    initpts=4,\n",
        "    iterpts=20,\n",
        "    acqfn_name='elcb',\n",
        ")\n",
        "res = bo.run()\n",
        "\n",
        "pp = PPMain(res, pp_models=True, pp_acq_funcs=True)\n",
        "pp.run()\n",
        "\n",
        "# We can also view the minimum energy configuration\n",
        "x_glmin = res.select(\"x_glmin\", -1)\n",
        "y_glmin = res.select(\"mu_glmin\", -1)\n",
        "print(\"Best adsorption energy found: %0.3f eV\" %y_glmin)\n",
        "adatom.place(x_glmin)\n",
        "view(adatom.atoms, viewer='x3d')\n"
      ],
      "metadata": {
        "id": "0OOTjaL0WSrB",
        "colab": {
          "base_uri": "https://localhost:8080/",
          "height": 332
        },
        "outputId": "984681f0-301f-4a54-ba4f-b346a4da23d7"
      },
      "execution_count": null,
      "outputs": [
        {
          "output_type": "stream",
          "name": "stdout",
          "text": [
            "Best adsorption energy found: -6.022 eV\n"
          ]
        },
        {
          "output_type": "execute_result",
          "data": {
            "text/plain": [
              "<IPython.core.display.HTML object>"
            ],
            "text/html": [
              "<html>\n",
              "    <head>\n",
              "        <title>ASE atomic visualization</title>\n",
              "        <link rel=\"stylesheet\" type=\"text/css\"             href=\"https://www.x3dom.org/release/x3dom.css\"></link>\n",
              "        <script type=\"text/javascript\"             src=\"https://www.x3dom.org/release/x3dom.js\"></script>\n",
              "    </head>\n",
              "    <body>\n",
              "        <X3D width=\"400px\"; height=\"300px\";>\n",
              "\n",
              "<!--Inserting Generated X3D Scene-->\n",
              "<scene>\n",
              "  <viewpoint position=\"0 0 46.224000000000004\">\n",
              "    <group/>\n",
              "  </viewpoint>\n",
              "  <transform translation=\"-2.868025104492637 -2.868025104492637 -11.556000000000001\">\n",
              "    <group>\n",
              "      <group>\n",
              "        <transform translation=\"0 0 0\">\n",
              "          <shape>\n",
              "            <appearance>\n",
              "              <material diffuseColor=\"0 0 0\"/>\n",
              "            </appearance>\n",
              "            <lineset vertexCount=\"5\">\n",
              "              <coordinate point=\"0 0 0 5.736050208985274 0.0 0.0 5.736050208985274 5.736050208985274 0.0 0.0 5.736050208985274 0.0 0 0 0\"/>\n",
              "            </lineset>\n",
              "          </shape>\n",
              "        </transform>\n",
              "        <transform translation=\"0.0 0.0 23.112000000000002\">\n",
              "          <shape>\n",
              "            <appearance>\n",
              "              <material diffuseColor=\"0 0 0\"/>\n",
              "            </appearance>\n",
              "            <lineset vertexCount=\"5\">\n",
              "              <coordinate point=\"0 0 0 5.736050208985274 0.0 0.0 5.736050208985274 5.736050208985274 0.0 0.0 5.736050208985274 0.0 0 0 0\"/>\n",
              "            </lineset>\n",
              "          </shape>\n",
              "        </transform>\n",
              "        <transform translation=\"0 0 0\">\n",
              "          <shape>\n",
              "            <appearance>\n",
              "              <material diffuseColor=\"0 0 0\"/>\n",
              "            </appearance>\n",
              "            <lineset vertexCount=\"5\">\n",
              "              <coordinate point=\"0 0 0 5.736050208985274 0.0 0.0 5.736050208985274 0.0 23.112000000000002 0.0 0.0 23.112000000000002 0 0 0\"/>\n",
              "            </lineset>\n",
              "          </shape>\n",
              "        </transform>\n",
              "        <transform translation=\"0.0 5.736050208985274 0.0\">\n",
              "          <shape>\n",
              "            <appearance>\n",
              "              <material diffuseColor=\"0 0 0\"/>\n",
              "            </appearance>\n",
              "            <lineset vertexCount=\"5\">\n",
              "              <coordinate point=\"0 0 0 5.736050208985274 0.0 0.0 5.736050208985274 0.0 23.112000000000002 0.0 0.0 23.112000000000002 0 0 0\"/>\n",
              "            </lineset>\n",
              "          </shape>\n",
              "        </transform>\n",
              "      </group>\n",
              "      <group>\n",
              "        <transform translation=\"0.0 0.0 7.500000000000001\">\n",
              "          <shape>\n",
              "            <appearance>\n",
              "              <material diffuseColor=\"1.0 0.82 0.137\"/>\n",
              "            </appearance>\n",
              "            <sphere radius=\"1.36\"/>\n",
              "          </shape>\n",
              "        </transform>\n",
              "        <transform translation=\"2.868025104492637 0.0 7.500000000000001\">\n",
              "          <shape>\n",
              "            <appearance>\n",
              "              <material diffuseColor=\"1.0 0.82 0.137\"/>\n",
              "            </appearance>\n",
              "            <sphere radius=\"1.36\"/>\n",
              "          </shape>\n",
              "        </transform>\n",
              "        <transform translation=\"0.0 2.868025104492637 7.500000000000001\">\n",
              "          <shape>\n",
              "            <appearance>\n",
              "              <material diffuseColor=\"1.0 0.82 0.137\"/>\n",
              "            </appearance>\n",
              "            <sphere radius=\"1.36\"/>\n",
              "          </shape>\n",
              "        </transform>\n",
              "        <transform translation=\"2.868025104492637 2.868025104492637 7.500000000000001\">\n",
              "          <shape>\n",
              "            <appearance>\n",
              "              <material diffuseColor=\"1.0 0.82 0.137\"/>\n",
              "            </appearance>\n",
              "            <sphere radius=\"1.36\"/>\n",
              "          </shape>\n",
              "        </transform>\n",
              "        <transform translation=\"1.4340125522463185 1.4340125522463185 9.528\">\n",
              "          <shape>\n",
              "            <appearance>\n",
              "              <material diffuseColor=\"1.0 0.82 0.137\"/>\n",
              "            </appearance>\n",
              "            <sphere radius=\"1.36\"/>\n",
              "          </shape>\n",
              "        </transform>\n",
              "        <transform translation=\"4.302037656738955 1.4340125522463185 9.528\">\n",
              "          <shape>\n",
              "            <appearance>\n",
              "              <material diffuseColor=\"1.0 0.82 0.137\"/>\n",
              "            </appearance>\n",
              "            <sphere radius=\"1.36\"/>\n",
              "          </shape>\n",
              "        </transform>\n",
              "        <transform translation=\"1.4340125522463185 4.302037656738955 9.528\">\n",
              "          <shape>\n",
              "            <appearance>\n",
              "              <material diffuseColor=\"1.0 0.82 0.137\"/>\n",
              "            </appearance>\n",
              "            <sphere radius=\"1.36\"/>\n",
              "          </shape>\n",
              "        </transform>\n",
              "        <transform translation=\"4.302037656738955 4.302037656738955 9.528\">\n",
              "          <shape>\n",
              "            <appearance>\n",
              "              <material diffuseColor=\"1.0 0.82 0.137\"/>\n",
              "            </appearance>\n",
              "            <sphere radius=\"1.36\"/>\n",
              "          </shape>\n",
              "        </transform>\n",
              "        <transform translation=\"0.0 0.0 11.556000000000001\">\n",
              "          <shape>\n",
              "            <appearance>\n",
              "              <material diffuseColor=\"1.0 0.82 0.137\"/>\n",
              "            </appearance>\n",
              "            <sphere radius=\"1.36\"/>\n",
              "          </shape>\n",
              "        </transform>\n",
              "        <transform translation=\"2.868025104492637 0.0 11.556000000000001\">\n",
              "          <shape>\n",
              "            <appearance>\n",
              "              <material diffuseColor=\"1.0 0.82 0.137\"/>\n",
              "            </appearance>\n",
              "            <sphere radius=\"1.36\"/>\n",
              "          </shape>\n",
              "        </transform>\n",
              "        <transform translation=\"0.0 2.868025104492637 11.556000000000001\">\n",
              "          <shape>\n",
              "            <appearance>\n",
              "              <material diffuseColor=\"1.0 0.82 0.137\"/>\n",
              "            </appearance>\n",
              "            <sphere radius=\"1.36\"/>\n",
              "          </shape>\n",
              "        </transform>\n",
              "        <transform translation=\"2.868025104492637 2.868025104492637 11.556000000000001\">\n",
              "          <shape>\n",
              "            <appearance>\n",
              "              <material diffuseColor=\"1.0 0.82 0.137\"/>\n",
              "            </appearance>\n",
              "            <sphere radius=\"1.36\"/>\n",
              "          </shape>\n",
              "        </transform>\n",
              "        <transform translation=\"1.4340125522463185 1.4340125522463185 13.584\">\n",
              "          <shape>\n",
              "            <appearance>\n",
              "              <material diffuseColor=\"1.0 0.82 0.137\"/>\n",
              "            </appearance>\n",
              "            <sphere radius=\"1.36\"/>\n",
              "          </shape>\n",
              "        </transform>\n",
              "        <transform translation=\"4.302037656738955 1.4340125522463185 13.584\">\n",
              "          <shape>\n",
              "            <appearance>\n",
              "              <material diffuseColor=\"1.0 0.82 0.137\"/>\n",
              "            </appearance>\n",
              "            <sphere radius=\"1.36\"/>\n",
              "          </shape>\n",
              "        </transform>\n",
              "        <transform translation=\"1.4340125522463185 4.302037656738955 13.584\">\n",
              "          <shape>\n",
              "            <appearance>\n",
              "              <material diffuseColor=\"1.0 0.82 0.137\"/>\n",
              "            </appearance>\n",
              "            <sphere radius=\"1.36\"/>\n",
              "          </shape>\n",
              "        </transform>\n",
              "        <transform translation=\"4.302037656738955 4.302037656738955 13.584\">\n",
              "          <shape>\n",
              "            <appearance>\n",
              "              <material diffuseColor=\"1.0 0.82 0.137\"/>\n",
              "            </appearance>\n",
              "            <sphere radius=\"1.36\"/>\n",
              "          </shape>\n",
              "        </transform>\n",
              "        <transform translation=\"0.0 0.0 15.612000000000002\">\n",
              "          <shape>\n",
              "            <appearance>\n",
              "              <material diffuseColor=\"1.0 0.82 0.137\"/>\n",
              "            </appearance>\n",
              "            <sphere radius=\"1.36\"/>\n",
              "          </shape>\n",
              "        </transform>\n",
              "        <transform translation=\"2.868025104492637 0.0 15.612000000000002\">\n",
              "          <shape>\n",
              "            <appearance>\n",
              "              <material diffuseColor=\"1.0 0.82 0.137\"/>\n",
              "            </appearance>\n",
              "            <sphere radius=\"1.36\"/>\n",
              "          </shape>\n",
              "        </transform>\n",
              "        <transform translation=\"0.0 2.868025104492637 15.612000000000002\">\n",
              "          <shape>\n",
              "            <appearance>\n",
              "              <material diffuseColor=\"1.0 0.82 0.137\"/>\n",
              "            </appearance>\n",
              "            <sphere radius=\"1.36\"/>\n",
              "          </shape>\n",
              "        </transform>\n",
              "        <transform translation=\"2.868025104492637 2.868025104492637 15.612000000000002\">\n",
              "          <shape>\n",
              "            <appearance>\n",
              "              <material diffuseColor=\"1.0 0.82 0.137\"/>\n",
              "            </appearance>\n",
              "            <sphere radius=\"1.36\"/>\n",
              "          </shape>\n",
              "        </transform>\n",
              "        <transform translation=\"1.8401095095654996 0.9048784324023211 17.280070318017078\">\n",
              "          <shape>\n",
              "            <appearance>\n",
              "              <material diffuseColor=\"0.0 0.412 0.522\"/>\n",
              "            </appearance>\n",
              "            <sphere radius=\"1.39\"/>\n",
              "          </shape>\n",
              "        </transform>\n",
              "      </group>\n",
              "    </group>\n",
              "  </transform>\n",
              "</scene>\n",
              "<!--End of Inserted Scene-->\n",
              "\n",
              "        </X3D>\n",
              "    </body>\n",
              "</html>\n",
              "\n"
            ]
          },
          "metadata": {},
          "execution_count": 6
        }
      ]
    },
    {
      "cell_type": "markdown",
      "source": [
        "If you are familiar with crystal structures, you might find that the minimum energy configuration found above doesn't match your expectations. Indeed, to find\n",
        "the true global minimum we must also let the z-coordinate vary. The resulting 3D problem is significantly harder that the 2D problem, in particular we note that\n",
        "there is not periodicity in the z-coordinate. However, we still have an ace up our sleeve: the objective function has two mirror planes at $x_1=1/2$ and $x_2 = 1/2$.\n",
        "BOSS let's you exploit symmetries through objective functions that return an arbitrary number of observations $(X, Y)$. We can write a new method for the `Adatom` class\n",
        "that does exactly this for the two mirror planes:"
      ],
      "metadata": {
        "id": "OQR_-RVlWkI5"
      }
    },
    {
      "cell_type": "code",
      "source": [
        "def calc_energy_with_symmetry(self, x):\n",
        "    \"\"\"Like calc_energy, but exploits mirror planes to return extra observations. \"\"\"\n",
        "    x = np.squeeze(x)\n",
        "    if self.z_fix is not None and len(x) == 2:\n",
        "        x = np.append(x, self.z_fix)\n",
        "\n",
        "    x1 = np.array([1 - x[0], x[1], x[2]])\n",
        "    x2 = np.array([x[0], 1 - x[1], x[2]])\n",
        "    x3 = np.array([1 - x[0], 1 - x[1], x[2]])\n",
        "    X = np.array([x, x1, x2, x3])\n",
        "\n",
        "    # filter duplicates\n",
        "    _, inds = np.unique(X.round(decimals=4), axis=0, return_index=True)\n",
        "    X = X[inds]\n",
        "\n",
        "    if self.z_fix is not None:\n",
        "        X = X[:, :2]\n",
        "    Y = np.ones(len(X)) * self.calc_energy(x)\n",
        "    return X, Y\n",
        "\n",
        "Adatom.calc_energy_with_symmetry = calc_energy_with_symmetry"
      ],
      "metadata": {
        "id": "jd6HI0zZWprm"
      },
      "execution_count": null,
      "outputs": []
    },
    {
      "cell_type": "markdown",
      "source": [
        "This way, one call to EMT calculator to compute the energy can yield up to 4 new observations. Armed with this new objective function we are better equipped to tackle the full 3D optimization problem, what solution do you obtain? $[1.0, 2.5]$ are reasonable bounds for the z-coordinate.\n",
        "\n",
        " **Hints**: You will need to modify both the\n",
        "bounds and the kernel, the number of iterations might also need to be increased. Look at the `convergence_measures.png` file generated by the post-processing."
      ],
      "metadata": {
        "id": "7S7uhWJLWtiT"
      }
    },
    {
      "cell_type": "code",
      "source": [
        "# Switching on symmetry-enhanced acquisitions\n",
        "adatom = Adatom()\n",
        "\n",
        "bo = BOMain(\n",
        "    # please switch on the symmetry in the line below\n",
        "    adatom.calc_energy_with_symmetry,\n",
        "    bounds=[[0., 1.], [0., 1.], [1, 2.5]],\n",
        "    kernel=['stdp', 'stdp', 'rbf'],\n",
        "    initpts=4,\n",
        "    iterpts=20,\n",
        "    acqfn_name='elcb',\n",
        ")\n",
        "res = bo.run()\n",
        "\n",
        "pp = PPMain(res, pp_models=True, pp_acq_funcs=True)\n",
        "pp.run()\n",
        "\n",
        "# We can also view the minimum energy configuration\n",
        "x_glmin = res.select(\"x_glmin\", -1)\n",
        "y_glmin = res.select(\"mu_glmin\", -1)\n",
        "print(\"Best adsorption energy found: %0.3f eV\" %y_glmin)\n",
        "adatom.place(x_glmin)\n",
        "view(adatom.atoms, viewer='x3d')\n"
      ],
      "metadata": {
        "id": "iYtNsnYKW2jJ"
      },
      "execution_count": null,
      "outputs": []
    },
    {
      "cell_type": "code",
      "source": [],
      "metadata": {
        "id": "Aa7pBglqqVeA"
      },
      "execution_count": null,
      "outputs": []
    }
  ],
  "metadata": {
    "colab": {
      "provenance": [],
      "include_colab_link": true
    },
    "kernelspec": {
      "display_name": "Python [conda env:ml4mscourse] *",
      "language": "python",
      "name": "conda-env-ml4mscourse-py"
    },
    "language_info": {
      "codemirror_mode": {
        "name": "ipython",
        "version": 3
      },
      "file_extension": ".py",
      "mimetype": "text/x-python",
      "name": "python",
      "nbconvert_exporter": "python",
      "pygments_lexer": "ipython3",
      "version": "3.6.15"
    },
    "varInspector": {
      "cols": {
        "lenName": 16,
        "lenType": 16,
        "lenVar": 40
      },
      "kernels_config": {
        "python": {
          "delete_cmd_postfix": "",
          "delete_cmd_prefix": "del ",
          "library": "var_list.py",
          "varRefreshCmd": "print(var_dic_list())"
        },
        "r": {
          "delete_cmd_postfix": ") ",
          "delete_cmd_prefix": "rm(",
          "library": "var_list.r",
          "varRefreshCmd": "cat(var_dic_list()) "
        }
      },
      "types_to_exclude": [
        "module",
        "function",
        "builtin_function_or_method",
        "instance",
        "_Feature"
      ],
      "window_display": false
    }
  },
  "nbformat": 4,
  "nbformat_minor": 0
}